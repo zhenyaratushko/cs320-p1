{
 "cells": [
  {
   "cell_type": "code",
   "execution_count": 1,
   "id": "699231c2-b097-4e8c-a885-c758ab78da51",
   "metadata": {},
   "outputs": [],
   "source": [
    "# project: p1\n",
    "# submitter: ratushko\n",
    "# partner: none\n",
    "# hours: 26"
   ]
  },
  {
   "cell_type": "code",
   "execution_count": 2,
   "id": "5adea158-4f6b-439e-8bff-7ee7bb3f9345",
   "metadata": {},
   "outputs": [],
   "source": [
    "# import statements\n",
    "import copy\n",
    "import json\n",
    "import os\n",
    "import pandas as pd\n",
    "import matplotlib.pyplot as plt\n",
    "import numpy as np\n",
    "from subprocess import check_output\n",
    "import time"
   ]
  },
  {
   "cell_type": "code",
   "execution_count": 3,
   "id": "0a706bc1-ee10-4858-a2f7-d4737618ffc0",
   "metadata": {},
   "outputs": [
    {
     "data": {
      "text/plain": [
       "float"
      ]
     },
     "execution_count": 3,
     "metadata": {},
     "output_type": "execute_result"
    }
   ],
   "source": [
    "#Q1\n",
    "type(7/2)"
   ]
  },
  {
   "cell_type": "code",
   "execution_count": 4,
   "id": "fbdf652f-d906-48ac-a552-1df7e09bef93",
   "metadata": {},
   "outputs": [
    {
     "data": {
      "text/plain": [
       "True"
      ]
     },
     "execution_count": 4,
     "metadata": {},
     "output_type": "execute_result"
    }
   ],
   "source": [
    "#Q2\n",
    "x = 4\n",
    "maximum = 10\n",
    "minimum = 5\n",
    "error = (x > 10) or (x < 5) # True if x is outside the minimum-to-maximum range\n",
    "error"
   ]
  },
  {
   "cell_type": "code",
   "execution_count": 5,
   "id": "41979ee0-12c2-46aa-bdf5-2c9b45419239",
   "metadata": {},
   "outputs": [
    {
     "data": {
      "text/plain": [
       "True"
      ]
     },
     "execution_count": 5,
     "metadata": {},
     "output_type": "execute_result"
    }
   ],
   "source": [
    "#Q3\n",
    "word = \"KAFKAESQUE\"\n",
    "suffix_match = word.upper()[5:] == \"ESQUE\" # .endswith(...) method not allowed for this question! (practice slicing)\n",
    "suffix_match"
   ]
  },
  {
   "cell_type": "code",
   "execution_count": 6,
   "id": "297db0fb-979c-4f93-b1a9-f30db2b19343",
   "metadata": {},
   "outputs": [],
   "source": [
    "def add(x, y = 1):\n",
    "    sum = x + y\n",
    "    return sum"
   ]
  },
  {
   "cell_type": "code",
   "execution_count": 7,
   "id": "5cc93d7e-54b1-46be-821d-a7aab50dfc80",
   "metadata": {},
   "outputs": [
    {
     "data": {
      "text/plain": [
       "7"
      ]
     },
     "execution_count": 7,
     "metadata": {},
     "output_type": "execute_result"
    }
   ],
   "source": [
    "#Q4 \n",
    "add(3, 4)"
   ]
  },
  {
   "cell_type": "code",
   "execution_count": 8,
   "id": "274943dc-d1cb-4bf9-aae4-fa5f0c85de3a",
   "metadata": {},
   "outputs": [
    {
     "data": {
      "text/plain": [
       "10"
      ]
     },
     "execution_count": 8,
     "metadata": {},
     "output_type": "execute_result"
    }
   ],
   "source": [
    "#Q5\n",
    "add(9)"
   ]
  },
  {
   "cell_type": "code",
   "execution_count": 9,
   "id": "59884b0f-fd8f-4961-a150-94e38d826a5e",
   "metadata": {},
   "outputs": [
    {
     "data": {
      "text/plain": [
       "'positive'"
      ]
     },
     "execution_count": 9,
     "metadata": {},
     "output_type": "execute_result"
    }
   ],
   "source": [
    "#Q6\n",
    "x = 4\n",
    "if x < 0:\n",
    "    status = \"negative\"\n",
    "elif x > 0:\n",
    "    status = \"positive\"\n",
    "else:\n",
    "    status = \"zero\"\n",
    "status"
   ]
  },
  {
   "cell_type": "code",
   "execution_count": 10,
   "id": "a2259468-7c36-49a7-aef1-e306df7bceb6",
   "metadata": {},
   "outputs": [
    {
     "name": "stdout",
     "output_type": "stream",
     "text": [
      "3\n",
      "4\n",
      "1\n",
      "6\n"
     ]
    }
   ],
   "source": [
    "nums = [3, 4, 1, 6]\n",
    "for x in nums:\n",
    "    print(x)"
   ]
  },
  {
   "cell_type": "code",
   "execution_count": 11,
   "id": "b1050fc5-d1cd-4b5b-a35b-288375910075",
   "metadata": {},
   "outputs": [],
   "source": [
    "def smart_count(some_list):\n",
    "    total = 0\n",
    "    for x in some_list:\n",
    "        if x > 10:\n",
    "            continue\n",
    "        elif x < 0:\n",
    "            break\n",
    "        else:\n",
    "            total += x\n",
    "    return total"
   ]
  },
  {
   "cell_type": "code",
   "execution_count": 12,
   "id": "5c3b8879-795f-42d1-8814-9965eb7bb3ef",
   "metadata": {},
   "outputs": [
    {
     "data": {
      "text/plain": [
       "14"
      ]
     },
     "execution_count": 12,
     "metadata": {},
     "output_type": "execute_result"
    }
   ],
   "source": [
    "#Q7\n",
    "smart_count(nums)"
   ]
  },
  {
   "cell_type": "code",
   "execution_count": 13,
   "id": "978c9435-50e4-45c0-9b27-297a2f463eac",
   "metadata": {},
   "outputs": [
    {
     "data": {
      "text/plain": [
       "6"
      ]
     },
     "execution_count": 13,
     "metadata": {},
     "output_type": "execute_result"
    }
   ],
   "source": [
    "#Q8\n",
    "smart_count([2, 1, 11, 3, 15, -1, 8, 2])"
   ]
  },
  {
   "cell_type": "code",
   "execution_count": 14,
   "id": "fad3df3e-0fdc-46fe-a51c-7f104f3e3d93",
   "metadata": {},
   "outputs": [],
   "source": [
    "header = [\"A\", \"B\", \"C\"]\n",
    "\n",
    "coord1 = {\"x\": 8, \"y\": 5}\n",
    "coord2 = {\"x\": 9, \"y\": 2}\n",
    "coord3 = {\"x\": 3, \"y\": 1, \"z\": 3.14}\n",
    "\n",
    "rows = [\n",
    "    [1, 6, coord1],\n",
    "    [3, 4, coord2],\n",
    "    [5, 2, coord3],\n",
    "]"
   ]
  },
  {
   "cell_type": "code",
   "execution_count": 15,
   "id": "7481ca65-af3a-4305-84f9-fc4efb059646",
   "metadata": {},
   "outputs": [
    {
     "data": {
      "text/plain": [
       "[[1, 6, {'x': 8, 'y': 5}],\n",
       " [3, 4, {'x': 9, 'y': 2}],\n",
       " [5, 2, {'x': 3, 'y': 1, 'z': 3.14}]]"
      ]
     },
     "execution_count": 15,
     "metadata": {},
     "output_type": "execute_result"
    }
   ],
   "source": [
    "#Q9\n",
    "rows"
   ]
  },
  {
   "cell_type": "code",
   "execution_count": 16,
   "id": "fca228d5-4d2e-400f-9f51-3e04b02f2686",
   "metadata": {},
   "outputs": [
    {
     "data": {
      "text/plain": [
       "8"
      ]
     },
     "execution_count": 16,
     "metadata": {},
     "output_type": "execute_result"
    }
   ],
   "source": [
    "#Q10\n",
    "rows[0][-1][\"x\"]"
   ]
  },
  {
   "cell_type": "code",
   "execution_count": 17,
   "id": "01a39e11-5419-4af7-9b9f-c432befde01e",
   "metadata": {},
   "outputs": [
    {
     "data": {
      "text/plain": [
       "[[1, 6, {'x': 8, 'y': 5}],\n",
       " [3, 9999, {'x': 9, 'y': 2}],\n",
       " [5, 2, {'x': 3, 'y': 1, 'z': 3.14}]]"
      ]
     },
     "execution_count": 17,
     "metadata": {},
     "output_type": "execute_result"
    }
   ],
   "source": [
    "#Q11\n",
    "v2 = copy.copy(rows)\n",
    "v2[0] = 8888    # first change\n",
    "v2[1][1] = 9999 # second change\n",
    "rows"
   ]
  },
  {
   "cell_type": "code",
   "execution_count": 18,
   "id": "775f376c-6773-4a07-9c6a-a4939869f9d4",
   "metadata": {},
   "outputs": [
    {
     "data": {
      "text/plain": [
       "10007"
      ]
     },
     "execution_count": 18,
     "metadata": {},
     "output_type": "execute_result"
    }
   ],
   "source": [
    "#Q12\n",
    "total_B = 0\n",
    "for row in rows:\n",
    "    num = row[header.index(\"B\")]\n",
    "    total_B += num\n",
    "\n",
    "total_B"
   ]
  },
  {
   "cell_type": "code",
   "execution_count": 19,
   "id": "168e2403-04f3-40ee-9d65-5bd5ba351cfe",
   "metadata": {},
   "outputs": [
    {
     "data": {
      "text/plain": [
       "[[5, 2, {'x': 3, 'y': 1, 'z': 3.14}],\n",
       " [1, 6, {'x': 8, 'y': 5}],\n",
       " [3, 9999, {'x': 9, 'y': 2}]]"
      ]
     },
     "execution_count": 19,
     "metadata": {},
     "output_type": "execute_result"
    }
   ],
   "source": [
    "#Q13\n",
    "rows.sort(key=lambda row: row[header.index(\"B\")], reverse=False)\n",
    "rows"
   ]
  },
  {
   "cell_type": "code",
   "execution_count": 20,
   "id": "864a4c83-3c6c-4e23-8f43-9759bc2ea5ea",
   "metadata": {},
   "outputs": [],
   "source": [
    "f = open(\"usd.json\")\n",
    "data = f.read()\n",
    "f.close()"
   ]
  },
  {
   "cell_type": "code",
   "execution_count": 21,
   "id": "a747ee4b-c67c-4dbe-8788-24f9723d80be",
   "metadata": {},
   "outputs": [
    {
     "name": "stdout",
     "output_type": "stream",
     "text": [
      "<class 'str'>\n",
      "{\"eur\":{\"code\":\"EUR\",\"alphaCode\":\"EUR\",\"numericCode\":\"978\",\"name\":\"Euro\",\"rate\":0.93122514336128,\"date\":\"Tue, 14 Feb 2023 23:55:01 GMT\",\"inverseRate\":1.073854166341},\"gbp\":{\"code\":\"GBP\",\"alphaCode\":\"GBP\",\"numericCode\":\"826\",\"name\":\"U.K. Pound Sterling\",\"rate\":0.82145600809467,\"date\":\"Tue, 14 Feb 202...\n"
     ]
    }
   ],
   "source": [
    "print(type(data))\n",
    "print(data[:300] + \"...\")"
   ]
  },
  {
   "cell_type": "code",
   "execution_count": 22,
   "id": "01537eb8-0439-4a88-b56a-9010060d641d",
   "metadata": {},
   "outputs": [
    {
     "data": {
      "text/plain": [
       "372.490057344512"
      ]
     },
     "execution_count": 22,
     "metadata": {},
     "output_type": "execute_result"
    }
   ],
   "source": [
    "#Q14\n",
    "f = open(\"usd.json\")\n",
    "data_1 = json.load(f)\n",
    "f.close()\n",
    "400 * data_1[\"eur\"][\"rate\"]"
   ]
  },
  {
   "cell_type": "code",
   "execution_count": 23,
   "id": "65e144c4-7e56-47ec-9b9e-c3bfe6bdfee1",
   "metadata": {},
   "outputs": [],
   "source": [
    "def divide(num1, num2):\n",
    "    try:\n",
    "        return num1 / num2\n",
    "    except ZeroDivisionError:\n",
    "        return float(\"nan\")\n",
    "        # print(\"float(\"nan\")\")"
   ]
  },
  {
   "cell_type": "code",
   "execution_count": 24,
   "id": "1d06a1f0-3105-4fd3-aade-6e5e125599f2",
   "metadata": {},
   "outputs": [
    {
     "data": {
      "text/plain": [
       "1.5"
      ]
     },
     "execution_count": 24,
     "metadata": {},
     "output_type": "execute_result"
    }
   ],
   "source": [
    "#Q15\n",
    "divide(3, 2)"
   ]
  },
  {
   "cell_type": "code",
   "execution_count": 25,
   "id": "6165cc08-9c00-4690-8630-95bd9d1b20c9",
   "metadata": {},
   "outputs": [
    {
     "data": {
      "text/plain": [
       "nan"
      ]
     },
     "execution_count": 25,
     "metadata": {},
     "output_type": "execute_result"
    }
   ],
   "source": [
    "#Q16\n",
    "divide(-3, 0)"
   ]
  },
  {
   "cell_type": "code",
   "execution_count": 26,
   "id": "fd838531-d857-40a8-8549-bb36c38b490b",
   "metadata": {},
   "outputs": [],
   "source": [
    "years = {}\n",
    "year_list = os.listdir(\"home-computers\")\n",
    "\n",
    "for path in year_list:\n",
    "    if path.endswith(\".csv\"):\n",
    "        continue\n",
    "    else:\n",
    "        year_list.remove(path)\n",
    "        \n",
    "for filename in year_list:\n",
    "    df = pd.read_csv(\"home-computers/\" + filename, skiprows = [0])\n",
    "    df.set_index(\"Geographic Area Name\", inplace=True, drop=True)\n",
    "    split_path = filename.split(\".\")\n",
    "    year = int(split_path[0][-4:])\n",
    "    years[year] = df\n",
    "    \n",
    "year_keys = list(years.keys())\n",
    "year_keys.sort()\n",
    "sorted_years = {i: years[i] for i in year_keys}"
   ]
  },
  {
   "cell_type": "code",
   "execution_count": 27,
   "id": "6b66d6bc-4e48-4e7d-9d32-d1ecf534e23b",
   "metadata": {},
   "outputs": [
    {
     "data": {
      "text/plain": [
       "[2013, 2014, 2015, 2016, 2017, 2018]"
      ]
     },
     "execution_count": 27,
     "metadata": {},
     "output_type": "execute_result"
    }
   ],
   "source": [
    "#Q17\n",
    "years_list = list(sorted_years.keys())\n",
    "years_list"
   ]
  },
  {
   "cell_type": "code",
   "execution_count": 28,
   "id": "33e48490-aa58-4af0-a800-6990c1dd3dbe",
   "metadata": {},
   "outputs": [
    {
     "data": {
      "text/plain": [
       "2371960"
      ]
     },
     "execution_count": 28,
     "metadata": {},
     "output_type": "execute_result"
    }
   ],
   "source": [
    "#Q18\n",
    "df_2018 = sorted_years[2018]\n",
    "df_2018.loc[\"Wisconsin\"][\"Estimate!!Total\"]"
   ]
  },
  {
   "cell_type": "code",
   "execution_count": 29,
   "id": "c19666a9-c62d-481d-9b0b-0f25a04fb3fd",
   "metadata": {},
   "outputs": [
    {
     "data": {
      "text/plain": [
       "10285814"
      ]
     },
     "execution_count": 29,
     "metadata": {},
     "output_type": "execute_result"
    }
   ],
   "source": [
    "#Q19\n",
    "total_no_comp_est = sum(df_2018[\"Estimate!!Total!!No Computer\"])\n",
    "total_no_comp_est"
   ]
  },
  {
   "cell_type": "code",
   "execution_count": 30,
   "id": "96d6aebd-639b-4955-8bc9-8fbdf84b4898",
   "metadata": {},
   "outputs": [
    {
     "data": {
      "text/plain": [
       "0.12375641594322287"
      ]
     },
     "execution_count": 30,
     "metadata": {},
     "output_type": "execute_result"
    }
   ],
   "source": [
    "#Q20\n",
    "margin_error_per_state = df_2018[\"Margin of Error!!Total!!No Computer\"] / df_2018[\"Estimate!!Total!!No Computer\"]\n",
    "margin_error_per_state.max()"
   ]
  },
  {
   "cell_type": "code",
   "execution_count": 31,
   "id": "b3189a04-10b1-4e0f-9b8b-fd9ea71614e0",
   "metadata": {},
   "outputs": [
    {
     "data": {
      "text/plain": [
       "{'Illinois': 8.524143737625552,\n",
       " 'Indiana': 9.463486214247707,\n",
       " 'Iowa': 9.468929459023103,\n",
       " 'Michigan': 8.936374942955922,\n",
       " 'Minnesota': 7.491847623005652,\n",
       " 'Wisconsin': 9.582497175331794}"
      ]
     },
     "execution_count": 31,
     "metadata": {},
     "output_type": "execute_result"
    }
   ],
   "source": [
    "#Q21\n",
    "per_state_no_comp = {}\n",
    "adjacent_states_list = [\"Illinois\", \"Indiana\", \"Iowa\", \"Michigan\", \"Minnesota\", \"Wisconsin\"]\n",
    "\n",
    "for state in adjacent_states_list:\n",
    "    percent_no_comp = (df_2018.loc[state][\"Estimate!!Total!!No Computer\"]/df_2018.loc[state][\"Estimate!!Total\"])*100\n",
    "    per_state_no_comp[state] = percent_no_comp\n",
    "    \n",
    "per_state_no_comp"
   ]
  },
  {
   "cell_type": "code",
   "execution_count": 32,
   "id": "90d8163d-eb8c-46b6-9937-298f04769f60",
   "metadata": {},
   "outputs": [
    {
     "data": {
      "image/png": "[encoded data removed]",
      "text/plain": [
       "<Figure size 640x480 with 1 Axes>"
      ]
     },
     "metadata": {},
     "output_type": "display_data"
    }
   ],
   "source": [
    "#Q22\n",
    "per_state_series = pd.Series(per_state_no_comp)\n",
    "plot = per_state_series.plot.bar()\n",
    "plot.set_xlabel('Geographic Area Name')\n",
    "plot.set_ylabel('% of Households w/o Computers')\n",
    "None"
   ]
  },
  {
   "cell_type": "code",
   "execution_count": 33,
   "id": "810dfbf2-fc57-4acb-b619-7802f8fb49d8",
   "metadata": {},
   "outputs": [
    {
     "data": {
      "image/png": "[encoded data removed]",
      "text/plain": [
       "<Figure size 640x480 with 1 Axes>"
      ]
     },
     "metadata": {},
     "output_type": "display_data"
    }
   ],
   "source": [
    "#Q23\n",
    "wisco_no_comp = []\n",
    "for year in sorted_years:\n",
    "    value = sorted_years[year].loc[\"Wisconsin\"][\"Estimate!!Total!!No Computer\"]/1000\n",
    "    wisco_no_comp.append(value)\n",
    "\n",
    "wisco_no_comp_series = pd.Series(wisco_no_comp)\n",
    "wisco_no_comp_series.index = years_list\n",
    "\n",
    "plot = wisco_no_comp_series.plot.line()\n",
    "plot.set_xlabel('Year')\n",
    "plot.set_ylabel('WI Households without Computers (thousands)')\n",
    "plot.set_ylim([0, 400])\n",
    "None"
   ]
  },
  {
   "cell_type": "code",
   "execution_count": 34,
   "id": "0a68ff63-85d2-40da-a570-f79ccad6ae46",
   "metadata": {},
   "outputs": [
    {
     "data": {
      "image/png": "[encoded data removed]",
      "text/plain": [
       "<Figure size 640x480 with 1 Axes>"
      ]
     },
     "metadata": {},
     "output_type": "display_data"
    }
   ],
   "source": [
    "#Q24\n",
    "df_2018_scatter = df_2018[[\"Estimate!!Total!!Has one or more types of computing devices!!Smartphone\", \"Estimate!!Total!!Has one or more types of computing devices!!Tablet or other portable wireless computer\"]]\n",
    "scatter_plot = (df_2018_scatter/1e6).plot.scatter(x = (\"Estimate!!Total!!Has one or more types of computing devices!!Smartphone\"), y = (\"Estimate!!Total!!Has one or more types of computing devices!!Tablet or other portable wireless computer\"))\n",
    "scatter_plot.set_xlabel('Smartphones (millions)')\n",
    "scatter_plot.set_ylabel('Tablets (millions)')\n",
    "None"
   ]
  },
  {
   "cell_type": "code",
   "execution_count": 35,
   "id": "d027d4eb-3287-4b36-98a6-e01c47b00223",
   "metadata": {},
   "outputs": [
    {
     "name": "stderr",
     "output_type": "stream",
     "text": [
      "Previous HEAD position was b15ad394 Added setup.py and README\n",
      "Switched to branch 'main'\n"
     ]
    },
    {
     "data": {
      "text/plain": [
       "'commit 660994efc761efdfd49ca442b73f6712dc77b6cf'"
      ]
     },
     "execution_count": 35,
     "metadata": {},
     "output_type": "execute_result"
    }
   ],
   "source": [
    "#Q25\n",
    "check_output([\"git\", \"checkout\", \"main\"], cwd=\"flask\")\n",
    "flask_output = check_output([\"git\", \"log\"], cwd=\"flask\")\n",
    "flask_str = str(flask_output, \"utf-8\")\n",
    "flask_list = flask_str.strip().split(\"\\n\")\n",
    "flask_first_line = flask_list[0]\n",
    "flask_first_line"
   ]
  },
  {
   "cell_type": "code",
   "execution_count": 36,
   "id": "c1e94e01-3866-4471-9239-763c3fd15d87",
   "metadata": {},
   "outputs": [
    {
     "data": {
      "text/plain": [
       "['03148dba6b26a2694da1d466584f50189c52e7b3',\n",
       " 'ef524f2cfd65377b3b9ce896e7a710472b13c0f6',\n",
       " 'f2dc38cda61f76c64b97ab9f730accc986a4b188',\n",
       " '03168a5d53457fdb8676a4ac9fca0f76a23c6852',\n",
       " '0b8e01b4450d0ba8cb65751d866568fddc155fa4',\n",
       " '6a3a046f55755f0691568431e68a8bfea8d89df0',\n",
       " 'd78b04a3fca8d8887382606897d4a97e55062fda',\n",
       " '4671429a509094f36e2294055340197091d39979',\n",
       " '4e7aa9e7f7a86ee0ea4b6801694c13151518cb52',\n",
       " '85ca089dde8814c4a42ad4574cddce25d60e5e25',\n",
       " '8171da88a49eba769d313a51591ee8575be59762',\n",
       " 'df929c6c77ea5490a969275e45075c29711a498c',\n",
       " '574e81f9c8bbdc41958e1e7a7613633b091101f8',\n",
       " '1fff3e598126a084348ec2c112fdd3bc6b9a1ee0',\n",
       " '05f36c7f7e2df36ee28f90d99632162579b1287c',\n",
       " '4e1b3e1134eb478563bc434d794085d0a412cb84',\n",
       " '8e9bd5f009bb8756a2a7d76a4b792323eeee49d6',\n",
       " '9dfab582d065521e9350327801ed2c5ced1c8fa1',\n",
       " '3d719f35f5c1ee4ce3dc01fb2167ef49c0180cf6',\n",
       " '7d6b8e9ab3e738d69e39ad53a7c0f6a552d5284a',\n",
       " 'a9d4ea81da28ee9c894bf9d45adc4cfa9d52fddc',\n",
       " '727c701686c18c4a27ca523eb0c5862d497be24e',\n",
       " '4edec48b74dbb9d571e927b69b24c30ec0624975',\n",
       " '625eba4bb403296a8bbc1e72cc9cf4a5126f6c02',\n",
       " '4aa76212d1be9b17a57249549c2a73fb10b6cda8',\n",
       " '3b36bef2e6165bb4dad73d17f23ee1879e99f497',\n",
       " '44b42e0fbd93d86e0f4e929bda8e5fb63e81035d',\n",
       " '4ec7d2a0d8eac4f915dc0d38a886cd57045bb0c4',\n",
       " 'b15ad394279fc3b7f998fa56857f334a7c0156f6',\n",
       " '33850c0ebd23ae615e6823993d441f46d80b1ff0']"
      ]
     },
     "execution_count": 36,
     "metadata": {},
     "output_type": "execute_result"
    }
   ],
   "source": [
    "#Q26\n",
    "flask_commits_list = []\n",
    "\n",
    "for commit in flask_list:\n",
    "    if commit.startswith(\"commit\"):\n",
    "        flask_commit = commit.split(\" \")\n",
    "        flask_commits_list.append(flask_commit[1])\n",
    "    else:\n",
    "        continue\n",
    "        \n",
    "flask_commits_list[-30:]"
   ]
  },
  {
   "cell_type": "code",
   "execution_count": 37,
   "id": "216428ff-eb1b-4849-9e42-e421519ba339",
   "metadata": {},
   "outputs": [
    {
     "name": "stderr",
     "output_type": "stream",
     "text": [
      "Already on 'main'\n",
      "Note: switching to 'b15ad394279fc3b7f998fa56857f334a7c0156f6'.\n",
      "\n",
      "You are in 'detached HEAD' state. You can look around, make experimental\n",
      "changes and commit them, and you can discard any commits you make in this\n",
      "state without impacting any branches by switching back to a branch.\n",
      "\n",
      "If you want to create a new branch to retain commits you create, you may\n",
      "do so (now or later) by using -c with the switch command. Example:\n",
      "\n",
      "  git switch -c <new-branch-name>\n",
      "\n",
      "Or undo this operation with:\n",
      "\n",
      "  git switch -\n",
      "\n",
      "Turn off this advice by setting config variable advice.detachedHead to false\n",
      "\n",
      "HEAD is now at b15ad394 Added setup.py and README\n"
     ]
    },
    {
     "data": {
      "text/plain": [
       "\"\\n                        // Flask //\\n\\n     because a pocket knife is not the only thing that\\n                    might come in handy\\n\\n\\n    ~ What is Flask?\\n\\n      Flask is a microframework for Python based on Werkzeug\\n      and Jinja2.  It's intended for small scale applications\\n      and was development with best intentions in mind.\\n\\n   ~ Is it ready?\\n\\n      Nope, this is still work in progress, but I am happy to\\n      accept patches and improvements already.\\n\""
      ]
     },
     "execution_count": 37,
     "metadata": {},
     "output_type": "execute_result"
    }
   ],
   "source": [
    "#Q27\n",
    "check_output([\"git\", \"checkout\", \"main\"], cwd=\"flask\")\n",
    "readme_second_commit = check_output([\"git\", \"checkout\", flask_commits_list[-2]], cwd=\"flask\")\n",
    "f = open(\"flask/README\", \"r\")\n",
    "f.read()"
   ]
  },
  {
   "cell_type": "code",
   "execution_count": 38,
   "id": "ad8e79e0-7959-40bb-949c-3102feda364b",
   "metadata": {},
   "outputs": [
    {
     "data": {
      "text/plain": [
       "{'pallets': 204,\n",
       " 'pgjones': 14,\n",
       " 'greyli': 42,\n",
       " 'ThiefMaster': 11,\n",
       " 'jeffwidman': 8,\n",
       " 'garenchan': 8,\n",
       " 'davidism': 45,\n",
       " 'dawran6': 7,\n",
       " 'untitaker': 20,\n",
       " 'lord63-forks': 5,\n",
       " 'methane': 5,\n",
       " 'Winnetou': 6,\n",
       " 'defuz': 6,\n",
       " 'ThomasWaldmann': 13,\n",
       " 'SimonSapin': 11}"
      ]
     },
     "execution_count": 38,
     "metadata": {},
     "output_type": "execute_result"
    }
   ],
   "source": [
    "#Q28\n",
    "number_requests_per_user = {}\n",
    "users_with_requests = []\n",
    "pull_requests_more_than_5 = {}\n",
    "\n",
    "for line in flask_list:\n",
    "    if \"Merge pull request\" in line and \"/\" in line:\n",
    "        username = line.split(\"/\")[0].split()[-1]\n",
    "        users_with_requests.append(username)\n",
    "\n",
    "for username in users_with_requests:\n",
    "    if username in number_requests_per_user.keys():\n",
    "        number_requests_per_user[username] += 1\n",
    "    else:\n",
    "        number_requests_per_user[username] = 1\n",
    "        \n",
    "for username in number_requests_per_user:\n",
    "    if number_requests_per_user[username] >= 5:\n",
    "        pull_requests_more_than_5[username] = number_requests_per_user[username]\n",
    "    else:\n",
    "        continue \n",
    "        \n",
    "pull_requests_more_than_5"
   ]
  },
  {
   "cell_type": "code",
   "execution_count": 39,
   "id": "51d6131d-7aef-4d43-95f1-daad78a84738",
   "metadata": {},
   "outputs": [
    {
     "data": {
      "text/plain": [
       "'ERROR: unknown command \"instal\" - maybe you meant \"install\"\\n'"
      ]
     },
     "execution_count": 39,
     "metadata": {},
     "output_type": "execute_result"
    }
   ],
   "source": [
    "#Q29\n",
    "import subprocess\n",
    "\n",
    "try:\n",
    "    msg = check_output([\"pip3\", \"instal\"], stderr=subprocess.STDOUT)\n",
    "    msg_str = str(msg, \"utf-8\")\n",
    "except subprocess.CalledProcessError as e:\n",
    "    msg = e.output\n",
    "    msg_str = str(msg, \"utf-8\")\n",
    "    \n",
    "msg_str"
   ]
  },
  {
   "cell_type": "code",
   "execution_count": 40,
   "id": "4c6fecf3-ccea-462f-9d42-61dbe70b90ee",
   "metadata": {},
   "outputs": [],
   "source": [
    "def rand_df(rows):\n",
    "    return pd.DataFrame(np.random.randint(10, size=(rows, 4)),\n",
    "                        columns=[\"A\", \"B\", \"C\", \"D\"],\n",
    "                        index=[f\"r{i}\" for i in range(1, rows+1)])"
   ]
  },
  {
   "cell_type": "code",
   "execution_count": 41,
   "id": "03ebb5a0-ad0e-4848-b323-91e6b31ac530",
   "metadata": {},
   "outputs": [
    {
     "data": {
      "image/png": "[encoded data removed]",
      "text/plain": [
       "<Figure size 640x480 with 1 Axes>"
      ]
     },
     "metadata": {},
     "output_type": "display_data"
    }
   ],
   "source": [
    "#Q30\n",
    "master_rowtuple_dict = {}\n",
    "rows_1_list = []\n",
    "rows_times_list = []\n",
    "tuples_times_list = []\n",
    "\n",
    "for number in range(1, 5500, 500):\n",
    "    df = rand_df(number)\n",
    "    rows_1_list.append(number)\n",
    "    \n",
    "    start_time_0 = time.time()\n",
    "    for row in df.iterrows():\n",
    "        pass\n",
    "    end_time_0 = time.time()\n",
    "    final_time_0 = (end_time_0 - start_time_0)*1000\n",
    "    rows_times_list.append(final_time_0)\n",
    "    \n",
    "    master_rowtuple_dict[\"Iterrows\"] = rows_times_list\n",
    "    \n",
    "    start_time_1 = time.time()\n",
    "    for row in df.itertuples():\n",
    "        pass\n",
    "    end_time_1 = time.time()\n",
    "    final_time_1 = (end_time_1 - start_time_1)*1000\n",
    "    tuples_times_list.append(final_time_1)\n",
    "    \n",
    "    master_rowtuple_dict[\"Rows\"] = rows_1_list\n",
    "    master_rowtuple_dict[\"Itertuples\"] = tuples_times_list\n",
    "    \n",
    "rowtuple_df = pd.DataFrame(master_rowtuple_dict).set_index([\"Rows\"])\n",
    "rowtuple_df.plot.line(ylabel = \"Milliseconds\")\n",
    "None"
   ]
  },
  {
   "cell_type": "code",
   "execution_count": 42,
   "id": "274d7e9f-04c8-4bcb-9d30-271448a98b46",
   "metadata": {},
   "outputs": [
    {
     "data": {
      "image/png": "[encoded data removed]",
      "text/plain": [
       "<Figure size 640x480 with 1 Axes>"
      ]
     },
     "metadata": {},
     "output_type": "display_data"
    }
   ],
   "source": [
    "#Q31\n",
    "master_locat_dict = {}\n",
    "rows_2_list = []\n",
    "loc_times_list = []\n",
    "at_times_list = []\n",
    "\n",
    "for number in range(1, 5500, 500):\n",
    "    df = rand_df(number)\n",
    "    rows_2_list.append(number)\n",
    "    \n",
    "    start_time_2 = time.time()\n",
    "    loc_total = 0\n",
    "    for idx in df.index:\n",
    "        for col in df.columns:\n",
    "            loc_total += df.loc[idx, col]\n",
    "        end_time_2 = time.time()\n",
    "    final_time_2 = (end_time_2 - start_time_2)*1000\n",
    "    loc_times_list.append(final_time_2)\n",
    "    \n",
    "    master_locat_dict[\"Loc\"] = loc_times_list\n",
    "    \n",
    "    start_time_3 = time.time()\n",
    "    at_total = 0\n",
    "    for idx in df.index:\n",
    "        for col in df.columns:\n",
    "            at_total += df.at[idx, col]\n",
    "        end_time_3 = time.time()\n",
    "    final_time_3 = (end_time_3 - start_time_3)*1000\n",
    "    at_times_list.append(final_time_3)\n",
    "    \n",
    "    master_locat_dict[\"Rows\"] = rows_2_list\n",
    "    master_locat_dict[\"At\"] = at_times_list\n",
    "    \n",
    "locat_df = pd.DataFrame(master_locat_dict).set_index([\"Rows\"])\n",
    "locat_df.plot.line(ylabel = \"Milliseconds\")\n",
    "None"
   ]
  },
  {
   "cell_type": "code",
   "execution_count": 43,
   "id": "aab8e9cd-ea48-4696-bd9d-0e95d78da19d",
   "metadata": {},
   "outputs": [],
   "source": [
    "def laugh(x):\n",
    "    return \"ha\" * x"
   ]
  },
  {
   "cell_type": "code",
   "execution_count": 44,
   "id": "5a51f20d-1e7e-412e-a460-ffbce253c79e",
   "metadata": {},
   "outputs": [
    {
     "data": {
      "image/png": "[encoded data removed]",
      "text/plain": [
       "<Figure size 640x480 with 1 Axes>"
      ]
     },
     "metadata": {},
     "output_type": "display_data"
    }
   ],
   "source": [
    "#Q32\n",
    "master_loopapply_dict = {}\n",
    "rows_3_list = []\n",
    "loop_list = []\n",
    "apply_method_list = []\n",
    "\n",
    "for number in range(1, 21000, 1000):\n",
    "    df = rand_df(number)\n",
    "    rows_3_list.append(number)\n",
    "    \n",
    "    start_time_4 = time.time()\n",
    "    result = df[\"A\"].apply(laugh).tolist()\n",
    "    end_time_4 = time.time()\n",
    "    final_time_4 = (end_time_4 - start_time_4)*1000\n",
    "    apply_method_list.append(final_time_4)\n",
    "    \n",
    "    master_loopapply_dict[\"Apply\"] = apply_method_list\n",
    "    \n",
    "    start_time_5 = time.time()\n",
    "    result = []\n",
    "    for val in df[\"A\"]:\n",
    "        result.append(laugh(val))\n",
    "        end_time_5 = time.time()\n",
    "    final_time_5 = (end_time_5 - start_time_5)*1000\n",
    "    loop_list.append(final_time_5)\n",
    "    \n",
    "    master_loopapply_dict[\"Rows\"] = rows_3_list\n",
    "    master_loopapply_dict[\"Loop\"] = loop_list\n",
    "    \n",
    "loopapply_df = pd.DataFrame(master_loopapply_dict).set_index([\"Rows\"])\n",
    "loopapply_df.plot.line(ylabel = \"Milliseconds\")\n",
    "None"
   ]
  }
 ],
 "metadata": {
  "kernelspec": {
   "display_name": "Python 3 (ipykernel)",
   "language": "python",
   "name": "python3"
  },
  "language_info": {
   "codemirror_mode": {
    "name": "ipython",
    "version": 3
   },
   "file_extension": ".py",
   "mimetype": "text/x-python",
   "name": "python",
   "nbconvert_exporter": "python",
   "pygments_lexer": "ipython3",
   "version": "3.10.6"
  }
 },
 "nbformat": 4,
 "nbformat_minor": 5
}
